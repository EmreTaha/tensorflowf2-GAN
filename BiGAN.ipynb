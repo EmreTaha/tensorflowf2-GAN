{
  "nbformat": 4,
  "nbformat_minor": 0,
  "metadata": {
    "colab": {
      "name": "BiGAN.ipynb",
      "provenance": [],
      "collapsed_sections": []
    },
    "kernelspec": {
      "name": "python3",
      "display_name": "Python 3"
    },
    "accelerator": "GPU"
  },
  "cells": [
    {
      "cell_type": "markdown",
      "metadata": {
        "id": "NJb_eBKEwXS6",
        "colab_type": "text"
      },
      "source": [
        "https://github.com/ilguyi/generative.models.tensorflow.v2/blob/master/gans/bigan.ipynb"
      ]
    },
    {
      "cell_type": "markdown",
      "metadata": {
        "id": "E6R34jh5xKkW",
        "colab_type": "text"
      },
      "source": [
        "## Setup"
      ]
    },
    {
      "cell_type": "code",
      "metadata": {
        "id": "3eLP4fR6wCYc",
        "colab_type": "code",
        "outputId": "0043b850-f987-47cc-9870-3e68b0f52a71",
        "colab": {
          "base_uri": "https://localhost:8080/",
          "height": 35
        }
      },
      "source": [
        "import numpy as np\n",
        "\n",
        "import tensorflow as tf\n",
        "from tensorflow import keras\n",
        "from tensorflow.keras import layers\n",
        "from tensorflow.keras.losses import binary_crossentropy\n",
        "keras.backend.clear_session()\n",
        "tf.__version__"
      ],
      "execution_count": 0,
      "outputs": [
        {
          "output_type": "execute_result",
          "data": {
            "text/plain": [
              "'2.2.0-rc4'"
            ]
          },
          "metadata": {
            "tags": []
          },
          "execution_count": 74
        }
      ]
    },
    {
      "cell_type": "markdown",
      "metadata": {
        "id": "hv8Oaw_gS_pn",
        "colab_type": "text"
      },
      "source": [
        "## BiGAN\n"
      ]
    },
    {
      "cell_type": "code",
      "metadata": {
        "id": "naZ00jyldvMJ",
        "colab_type": "code",
        "colab": {}
      },
      "source": [
        "class BiGAN(keras.Model):\n",
        "  def __init__(self, discriminator, generator, encoder, latent_dim):\n",
        "    super(BiGAN, self).__init__()\n",
        "    self.discriminator = discriminator\n",
        "    self.generator = generator\n",
        "    self.latent_dim = latent_dim\n",
        "    self.encoder = encoder\n",
        "\n",
        "  def compile(self, d_optimizer, g_optimizer):\n",
        "    super(BiGAN, self).compile()\n",
        "    self.d_optimizer = d_optimizer\n",
        "    self.g_optimizer = g_optimizer # this will train encoder too\n",
        "\n",
        "  def generate(self, z, training=True): \n",
        "    return self.generator(z, training)\n",
        "\n",
        "  def discriminate(self, imgs, encs, training=True):\n",
        "    return self.discriminator(imgs, encs, training)\n",
        "\n",
        "  def encode(self, imgs, training=True):\n",
        "    return self.encoder(imgs, training)\n",
        "\n",
        "  @tf.function\n",
        "  def train_step(self, real_images):\n",
        "    #Loss function\n",
        "\n",
        "    # Sample random points in the latent space\n",
        "    batch_size = tf.shape(real_images)[0]\n",
        "\n",
        "    #Train discriminator\n",
        "    random_latent_vectors = tf.random.uniform(shape=(batch_size, 1, 1, self.latent_dim), minval=0.0, maxval=0.99)\n",
        "\n",
        "    with tf.GradientTape() as disc_tape, tf.GradientTape() as gen_tape:\n",
        "      # Decode them to fake images\n",
        "      generated_images = self.generate(random_latent_vectors)\n",
        "\n",
        "      # Extract features\n",
        "      encodeds = self.encode(real_images)\n",
        "\n",
        "      # Get the outputs for real and fake images and latents\n",
        "      disc_real = self.discriminate(real_images, encodeds)\n",
        "      disc_fake = self.discriminate(generated_images, random_latent_vectors)\n",
        "\n",
        "      # Get the discriminator loss going\n",
        "      disc_loss = tf.reduce_mean(binary_crossentropy(y_true=tf.ones_like(disc_real), y_pred=disc_real, from_logits=True)) + tf.reduce_mean(binary_crossentropy(y_true=tf.zeros_like(disc_fake), y_pred=disc_fake, from_logits=True))\n",
        "\n",
        "      # Get the gan and encoder loss going\n",
        "      gen_loss = tf.reduce_mean(binary_crossentropy(y_true=tf.zeros_like(disc_real), y_pred=disc_real, from_logits=True, label_smoothing=1)) + tf.reduce_mean(binary_crossentropy(y_true=tf.ones_like(disc_fake), y_pred=disc_fake, from_logits=True, label_smoothing=1))\n",
        "\n",
        "    d_grads = disc_tape.gradient(disc_loss, self.discriminator.trainable_weights)\n",
        "    self.d_optimizer.apply_gradients(zip(d_grads, self.discriminator.trainable_weights))\n",
        "\n",
        "    g_grads = gen_tape.gradient(gen_loss, self.generator.trainable_weights + self.encoder.trainable_weights)\n",
        "    self.g_optimizer.apply_gradients(zip(g_grads, self.generator.trainable_weights + self.encoder.trainable_weights))\n",
        "\n",
        "    return {'d_loss': disc_loss, 'g_loss': gen_loss}"
      ],
      "execution_count": 0,
      "outputs": []
    },
    {
      "cell_type": "code",
      "metadata": {
        "id": "fd9rxegeStk3",
        "colab_type": "code",
        "colab": {}
      },
      "source": [
        "TRAIN_BUF=60000\n",
        "BATCH_SIZE=32\n",
        "TEST_BUF=10000\n",
        "DIMS = (28,28,1)\n",
        "latent_dim = 64\n",
        "N_TRAIN_BATCHES =int(TRAIN_BUF/BATCH_SIZE)\n",
        "N_TEST_BATCHES = int(TEST_BUF/BATCH_SIZE)"
      ],
      "execution_count": 0,
      "outputs": []
    },
    {
      "cell_type": "code",
      "metadata": {
        "id": "gpLlvmD-gAji",
        "colab_type": "code",
        "colab": {}
      },
      "source": [
        "# Create the encoder\n",
        "def encoder_model():\n",
        "  inp = keras.Input(shape=DIMS, name = \"enc_input\")\n",
        "  netw = layers.Conv2D(64, (4, 4), strides=(2, 2),\n",
        "                padding='same')(inp)\n",
        "  netw = layers.LeakyReLU(alpha=0.2)(netw)\n",
        "\n",
        "  netw = layers.Conv2D(128, (4, 4), strides=(2, 2),\n",
        "                padding='same', use_bias=False)(netw)\n",
        "  netw = layers.BatchNormalization(momentum=0.9, epsilon=1e-5)(netw)\n",
        "  netw = layers.LeakyReLU(alpha=0.2)(netw)\n",
        "\n",
        "  #valid because 28->14->7->3->1\n",
        "  netw = layers.Conv2D(256, (3, 3), strides=(2, 2),\n",
        "                padding='valid', use_bias=False)(netw)\n",
        "  netw = layers.BatchNormalization(momentum=0.9, epsilon=1e-5)(netw)\n",
        "  netw = layers.LeakyReLU(alpha=0.2)(netw)\n",
        "\n",
        "  z = layers.Conv2D(latent_dim, (3, 3), strides=(1, 1),\n",
        "                padding='valid')(netw)\n",
        "\n",
        "  model = tf.keras.Model(inputs=inp, outputs=z)\n",
        "  return model\n",
        "\n",
        "encoder = encoder_model()\n",
        "\n",
        "\n",
        "# Create the discriminator\n",
        "class discriminator_model(tf.keras.Model):\n",
        "  def __init__(self):\n",
        "    super(discriminator_model, self).__init__()\n",
        "    self.fc0 = layers.Dense(28 * 28 * 2, use_bias=False)\n",
        "    self.bn0 = layers.BatchNormalization(momentum=0.9, epsilon=1e-5)\n",
        "    self.lr0 = layers.LeakyReLU(0.2)\n",
        "\n",
        "    self.conv1 = layers.Conv2D(32, (4,4), padding='same', strides=(2, 2))\n",
        "    self.lr1 = layers.LeakyReLU(0.2)\n",
        "\n",
        "    self.conv2 = layers.Conv2D(64, (4,4), padding='same', strides=(2, 2), use_bias=False)\n",
        "    self.bn1 = layers.BatchNormalization(momentum=0.9, epsilon=1e-5)\n",
        "    self.lr2 = layers.LeakyReLU(0.2)\n",
        "\n",
        "    self.conv3 = layers.Conv2D(128, (3,3), strides=(2, 2), padding='valid', use_bias=False)\n",
        "    self.bn2 = layers.BatchNormalization(momentum=0.9, epsilon=1e-5)\n",
        "    self.lr3 = layers.LeakyReLU(0.2)\n",
        "\n",
        "    self.conv4 = layers.Conv2D(1, (3,3), strides=(1, 1), padding='valid')\n",
        "\n",
        "  def call(self, images, latent, training=True):\n",
        "    latent = tf.squeeze(latent, axis=[1, 2])\n",
        "    fc = self.fc0(latent)\n",
        "    fc = self.bn0(fc, training = training)\n",
        "    fc = self.lr0(fc)\n",
        "    fc = tf.reshape(fc, [-1, 28, 28, 2])\n",
        "\n",
        "    inps = tf.concat([images, fc], axis=3)        \n",
        "    Conv1 = self.conv1(inps)                           \n",
        "    Conv1 = self.lr1(Conv1)\n",
        "\n",
        "    Conv2 = self.conv2(Conv1)                             \n",
        "    Conv2 = self.bn1(Conv2, training = training)\n",
        "    Conv2 = self.lr2(Conv2)\n",
        "\n",
        "    Conv3 = self.conv3(Conv2)                             \n",
        "    Conv3 = self.bn2(Conv3, training = training)\n",
        "    Conv3 = self.lr3(Conv3) \n",
        "\n",
        "    disc_logits = self.conv4(Conv3)                            \n",
        "    \n",
        "    return disc_logits\n",
        "\n",
        "discriminator = discriminator_model()\n",
        "\n",
        "# Create the generator\n",
        "def generator_model():\n",
        "  inp = keras.Input(shape=(1, 1, latent_dim), name=\"gen_input\")\n",
        "\n",
        "  netw = layers.Conv2DTranspose(256, (3, 3), strides=(2, 2), padding='valid', use_bias=False)(inp)\n",
        "  netw = layers.BatchNormalization(momentum=0.9, epsilon=1e-5)(netw)\n",
        "  netw = layers.ReLU()(netw)\n",
        "\n",
        "  netw = layers.Conv2DTranspose(128, (3, 3), strides=(2, 2), padding='valid', use_bias=False)(netw)\n",
        "  netw = layers.BatchNormalization(momentum=0.9, epsilon=1e-5)(netw)\n",
        "  netw = layers.ReLU()(netw)\n",
        "\n",
        "  netw = layers.Conv2DTranspose(64, (4, 4), strides=(2, 2), padding='same', use_bias=False)(netw)\n",
        "  netw = layers.BatchNormalization(momentum=0.9, epsilon=1e-5)(netw)\n",
        "  netw = layers.ReLU()(netw)\n",
        "  \n",
        "  netw = layers.Conv2DTranspose(1, (3, 3), strides=(2, 2), padding='same', activation='sigmoid')(netw)\n",
        "  model = tf.keras.Model(inputs=inp, outputs=netw)\n",
        "  return model\n",
        "\n",
        "generator = generator_model()"
      ],
      "execution_count": 0,
      "outputs": []
    },
    {
      "cell_type": "code",
      "metadata": {
        "id": "QKaLOAs61Nq9",
        "colab_type": "code",
        "colab": {}
      },
      "source": [
        "# Add noise to the real images\n",
        "@tf.function\n",
        "def add_noise(image):\n",
        "  noise = tf.random.normal(shape = (tf.shape(image)), stddev=0.01)\n",
        "  return image + noise"
      ],
      "execution_count": 0,
      "outputs": []
    },
    {
      "cell_type": "code",
      "metadata": {
        "id": "flzcU1JTSxlE",
        "colab_type": "code",
        "colab": {}
      },
      "source": [
        "# load dataset\n",
        "(train_images, _), (test_images, _) = tf.keras.datasets.fashion_mnist.load_data()\n",
        "\n",
        "# split dataset\n",
        "train_images = np.reshape(train_images,(-1, 28, 28, 1)).astype(\n",
        "    \"float32\"\n",
        ") / 255.0\n",
        "test_images = np.reshape(test_images,(-1, 28, 28, 1)).astype(\"float32\") / 255.0\n",
        "\n",
        "# batch datasets\n",
        "train_dataset = (\n",
        "    tf.data.Dataset.from_tensor_slices(train_images)\n",
        "    .shuffle(TRAIN_BUF)\n",
        "    .batch(BATCH_SIZE)\n",
        "    .map(add_noise)\n",
        ")\n",
        "test_dataset = (\n",
        "    tf.data.Dataset.from_tensor_slices(test_images)\n",
        "    .shuffle(TEST_BUF)\n",
        "    .batch(BATCH_SIZE)\n",
        "    .map(add_noise)\n",
        ")"
      ],
      "execution_count": 0,
      "outputs": []
    },
    {
      "cell_type": "code",
      "metadata": {
        "id": "1Wd1_XUjTE_-",
        "colab_type": "code",
        "colab": {}
      },
      "source": [
        "gen_optimizer = keras.optimizers.Adam(0.0002, beta_1=0.5)\n",
        "disc_optimizer = keras.optimizers.Adam(0.0001, beta_1=0.5)\n",
        "\n",
        "# model\n",
        "model = BiGAN(\n",
        "    generator = generator,\n",
        "    discriminator = discriminator,\n",
        "    encoder = encoder,\n",
        "    latent_dim = latent_dim,\n",
        ")\n",
        "\n",
        "model.compile(\n",
        "    d_optimizer=disc_optimizer,\n",
        "    g_optimizer=gen_optimizer,\n",
        ")"
      ],
      "execution_count": 0,
      "outputs": []
    },
    {
      "cell_type": "code",
      "metadata": {
        "id": "vNn9M0nIT4lv",
        "colab_type": "code",
        "outputId": "503bfae3-cbda-472d-af55-99dff66ed980",
        "colab": {
          "base_uri": "https://localhost:8080/",
          "height": 568
        }
      },
      "source": [
        "hist = model.fit(train_dataset, epochs=15)"
      ],
      "execution_count": 0,
      "outputs": [
        {
          "output_type": "stream",
          "text": [
            "Epoch 1/15\n",
            "1875/1875 [==============================] - 24s 13ms/step - d_loss: 0.7581 - g_loss: 1.8206\n",
            "Epoch 2/15\n",
            "1875/1875 [==============================] - 24s 13ms/step - d_loss: 0.6919 - g_loss: 1.8964\n",
            "Epoch 3/15\n",
            "1875/1875 [==============================] - 24s 13ms/step - d_loss: 0.6990 - g_loss: 1.8971\n",
            "Epoch 4/15\n",
            "1875/1875 [==============================] - 24s 13ms/step - d_loss: 0.6716 - g_loss: 2.0077\n",
            "Epoch 5/15\n",
            "1875/1875 [==============================] - 24s 13ms/step - d_loss: 0.8260 - g_loss: 1.8470\n",
            "Epoch 6/15\n",
            "1875/1875 [==============================] - 24s 13ms/step - d_loss: 0.8039 - g_loss: 1.8760\n",
            "Epoch 7/15\n",
            "1875/1875 [==============================] - 24s 13ms/step - d_loss: 0.7271 - g_loss: 2.0100\n",
            "Epoch 8/15\n",
            "1875/1875 [==============================] - 24s 13ms/step - d_loss: 0.7479 - g_loss: 1.9897\n",
            "Epoch 9/15\n",
            "1875/1875 [==============================] - 23s 13ms/step - d_loss: 0.5262 - g_loss: 2.4132\n",
            "Epoch 10/15\n",
            "1875/1875 [==============================] - 24s 13ms/step - d_loss: 0.6094 - g_loss: 2.2862\n",
            "Epoch 11/15\n",
            "1875/1875 [==============================] - 23s 13ms/step - d_loss: 0.5078 - g_loss: 2.5194\n",
            "Epoch 12/15\n",
            "1875/1875 [==============================] - 23s 12ms/step - d_loss: 0.5617 - g_loss: 2.4383\n",
            "Epoch 13/15\n",
            "1875/1875 [==============================] - 24s 13ms/step - d_loss: 0.5228 - g_loss: 2.5164\n",
            "Epoch 14/15\n",
            "1875/1875 [==============================] - 24s 13ms/step - d_loss: 0.3583 - g_loss: 3.0092\n",
            "Epoch 15/15\n",
            "1875/1875 [==============================] - 23s 13ms/step - d_loss: 0.4104 - g_loss: 2.8769\n"
          ],
          "name": "stdout"
        }
      ]
    },
    {
      "cell_type": "markdown",
      "metadata": {
        "id": "To2PyygQWYhH",
        "colab_type": "text"
      },
      "source": [
        ""
      ]
    },
    {
      "cell_type": "code",
      "metadata": {
        "id": "vu2YYKaHUGE2",
        "colab_type": "code",
        "outputId": "cd469dfc-5733-40da-a2d3-89da4b04c79a",
        "colab": {
          "base_uri": "https://localhost:8080/",
          "height": 126
        }
      },
      "source": [
        "import matplotlib.pyplot as plt\n",
        "%matplotlib inline\n",
        "\n",
        "# exampled data for plotting results\n",
        "def plot_reconstruction(model, nex=8, zm=2):\n",
        "    samples = model.predict(tf.random.uniform(shape=(BATCH_SIZE, 1, 1, latent_dim), minval=0.0, maxval=0.99))\n",
        "    fig, axs = plt.subplots(ncols=nex, nrows=1, figsize=(zm * nex, zm))\n",
        "    for axi in range(nex):\n",
        "        axs[axi].matshow(\n",
        "                    samples[axi].squeeze(), cmap=plt.cm.Greys, vmin=0, vmax=1\n",
        "                )\n",
        "        axs[axi].axis('off')\n",
        "    plt.show()\n",
        "\n",
        "plot_reconstruction(generator)"
      ],
      "execution_count": 0,
      "outputs": [
        {
          "output_type": "display_data",
          "data": {
            "image/png": "[encoded data removed]",
            "text/plain": [
              "<Figure size 1152x144 with 8 Axes>"
            ]
          },
          "metadata": {
            "tags": [],
            "needs_background": "light"
          }
        }
      ]
    },
    {
      "cell_type": "code",
      "metadata": {
        "id": "ca-Z3-PNgTG9",
        "colab_type": "code",
        "outputId": "eb1bc265-6455-4c93-f89a-a640d551eb58",
        "colab": {
          "base_uri": "https://localhost:8080/",
          "height": 279
        }
      },
      "source": [
        "# Get training and test loss histories\n",
        "g_loss = hist.history['g_loss']\n",
        "d_loss = hist.history['d_loss']\n",
        "# Create count of the number of epochs\n",
        "epoch_count = range(1, len(d_loss) + 1)\n",
        "# Visualize loss history\n",
        "plt.plot(epoch_count, d_loss, 'r--')\n",
        "plt.plot(epoch_count, g_loss, 'b-')\n",
        "\n",
        "plt.legend(['Discriminator Loss', 'Generator Loss',])\n",
        "plt.xlabel('Epoch')\n",
        "plt.ylabel('Loss')\n",
        "plt.show();"
      ],
      "execution_count": 0,
      "outputs": [
        {
          "output_type": "display_data",
          "data": {
            "image/png": "[encoded data removed]",
            "text/plain": [
              "<Figure size 432x288 with 1 Axes>"
            ]
          },
          "metadata": {
            "tags": [],
            "needs_background": "light"
          }
        }
      ]
    }
  ]
}