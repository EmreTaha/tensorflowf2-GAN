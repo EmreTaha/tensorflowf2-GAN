{
  "nbformat": 4,
  "nbformat_minor": 0,
  "metadata": {
    "colab": {
      "name": "wgan-sn.ipynb",
      "provenance": [],
      "collapsed_sections": []
    },
    "kernelspec": {
      "name": "python3",
      "display_name": "Python 3"
    },
    "accelerator": "GPU"
  },
  "cells": [
    {
      "cell_type": "markdown",
      "metadata": {
        "id": "NJb_eBKEwXS6",
        "colab_type": "text"
      },
      "source": [
        "https://github.com/timsainb/tensorflow2-generative-models/blob/master/3.0-WGAN-GP-fashion-mnist.ipynb\n",
        "\n"
      ]
    },
    {
      "cell_type": "markdown",
      "metadata": {
        "id": "E6R34jh5xKkW",
        "colab_type": "text"
      },
      "source": [
        "## Setup"
      ]
    },
    {
      "cell_type": "code",
      "metadata": {
        "id": "3eLP4fR6wCYc",
        "colab_type": "code",
        "outputId": "1ff37072-6c8d-45af-f3a4-2d6aa4e82016",
        "colab": {
          "base_uri": "https://localhost:8080/",
          "height": 35
        }
      },
      "source": [
        "import numpy as np\n",
        "\n",
        "import tensorflow as tf\n",
        "from tensorflow import keras\n",
        "from tensorflow.keras import layers\n",
        "keras.backend.clear_session()\n",
        "tf.__version__"
      ],
      "execution_count": 1,
      "outputs": [
        {
          "output_type": "execute_result",
          "data": {
            "text/plain": [
              "'2.2.0-rc4'"
            ]
          },
          "metadata": {
            "tags": []
          },
          "execution_count": 1
        }
      ]
    },
    {
      "cell_type": "markdown",
      "metadata": {
        "id": "hv8Oaw_gS_pn",
        "colab_type": "text"
      },
      "source": [
        "## WGAN"
      ]
    },
    {
      "cell_type": "code",
      "metadata": {
        "id": "naZ00jyldvMJ",
        "colab_type": "code",
        "colab": {}
      },
      "source": [
        "class WGAN(keras.Model):\n",
        "  def __init__(self, discriminator, generator, latent_dim):\n",
        "    super(WGAN, self).__init__()\n",
        "    self.discriminator = discriminator\n",
        "    self.generator = generator\n",
        "    self.latent_dim = latent_dim\n",
        "\n",
        "  def compile(self, d_optimizer, g_optimizer):\n",
        "    super(WGAN, self).compile()\n",
        "    self.d_optimizer = d_optimizer\n",
        "    self.g_optimizer = g_optimizer\n",
        "\n",
        "  def generate(self,z): \n",
        "    return self.generator(z)\n",
        "\n",
        "  def discriminate(self,imgs):\n",
        "    return self.discriminator(imgs)\n",
        "\n",
        "  def train_step(self, real_images):\n",
        "    # Sample random points in the latent space\n",
        "    batch_size = tf.shape(real_images)[0]\n",
        "    random_latent_vectors = tf.random.normal(shape=(batch_size, self.latent_dim))\n",
        "\n",
        "    #Train Critic 5 times\n",
        "    for _ in range(5):\n",
        "      with tf.GradientTape() as disc_tape:\n",
        "        random_latent_vectors = tf.random.normal(shape=(batch_size, self.latent_dim))\n",
        "\n",
        "        # Decode them to fake images\n",
        "        generated_images = self.generate(random_latent_vectors)\n",
        "\n",
        "        # Get the outputs for real and fake images\n",
        "        disc_real = self.discriminate(real_images)\n",
        "        disc_fake = self.discriminate(generated_images)\n",
        "\n",
        "        # Get the loss going\n",
        "        disc_loss = - tf.reduce_mean(disc_real) + tf.reduce_mean(disc_fake)\n",
        "\n",
        "      # Train the discriminator\n",
        "      d_grads = disc_tape.gradient(disc_loss, self.discriminator.trainable_weights)\n",
        "      self.d_optimizer.apply_gradients(zip(d_grads, self.discriminator.trainable_weights))\n",
        "\n",
        "    # Train the generator 1 time\n",
        "    with tf.GradientTape() as gen_tape:\n",
        "      random_latent_vectors = tf.random.normal(shape=(batch_size, self.latent_dim))\n",
        "\n",
        "      # Decode them to fake images\n",
        "      generated_images = self.generate(random_latent_vectors)\n",
        "\n",
        "      # Get the outputs for fake images\n",
        "      disc_fake = self.discriminate(generated_images)        \n",
        "\n",
        "      # Get the loss going\n",
        "      gen_loss = - tf.reduce_mean(disc_fake)\n",
        "\n",
        "    g_grads = gen_tape.gradient(gen_loss, self.generator.trainable_weights)\n",
        "    self.g_optimizer.apply_gradients(zip(g_grads, self.generator.trainable_weights))\n",
        "\n",
        "    return {'d_loss': disc_loss, 'g_loss': gen_loss}"
      ],
      "execution_count": 0,
      "outputs": []
    },
    {
      "cell_type": "code",
      "metadata": {
        "id": "fd9rxegeStk3",
        "colab_type": "code",
        "colab": {}
      },
      "source": [
        "TRAIN_BUF=60000\n",
        "BATCH_SIZE=64\n",
        "TEST_BUF=10000\n",
        "DIMS = (28,28,1)\n",
        "latent_dim = 64\n",
        "POWER_ITERATIONS = 5\n",
        "N_TRAIN_BATCHES =int(TRAIN_BUF/BATCH_SIZE)\n",
        "N_TEST_BATCHES = int(TEST_BUF/BATCH_SIZE)"
      ],
      "execution_count": 0,
      "outputs": []
    },
    {
      "cell_type": "code",
      "metadata": {
        "id": "xUST7cyWnGGb",
        "colab_type": "code",
        "colab": {}
      },
      "source": [
        "# spectral norm from https://colab.research.google.com/drive/1f2Ejlm3UmsthqQni9vFkGmTTcS_ndqXR#scrollTo=vQ0QgmWmOE64\n",
        "\n",
        "from tensorflow.keras.constraints import Constraint\n",
        "\n",
        "def l2_normalize(x, eps=1e-12):\n",
        "  '''\n",
        "  Scale input by the inverse of it's euclidean norm\n",
        "  '''\n",
        "  return x / tf.linalg.norm(x + eps)\n",
        "\n",
        "class Spectral_Norm(Constraint):\n",
        "    '''\n",
        "    Uses power iteration method to calculate a fast approximation \n",
        "    of the spectral norm (Golub & Van der Vorst)\n",
        "    The weights are then scaled by the inverse of the spectral norm\n",
        "    '''\n",
        "    def __init__(self, power_iters=POWER_ITERATIONS):\n",
        "        self.n_iters = power_iters\n",
        "\n",
        "    def __call__(self, w):\n",
        "      flattened_w = tf.reshape(w, [w.shape[0], -1])\n",
        "      u = tf.random.normal([flattened_w.shape[0]])\n",
        "      v = tf.random.normal([flattened_w.shape[1]])\n",
        "      for i in range(self.n_iters):\n",
        "        v = tf.linalg.matvec(tf.transpose(flattened_w), u)\n",
        "        v = l2_normalize(v)\n",
        "        u = tf.linalg.matvec(flattened_w, v)\n",
        "        u = l2_normalize(u)\n",
        "      sigma = tf.tensordot(u, tf.linalg.matvec(flattened_w, v), axes=1)\n",
        "      return w / sigma\n",
        "\n",
        "    def get_config(self):\n",
        "        return {'n_iters': self.n_iters}"
      ],
      "execution_count": 0,
      "outputs": []
    },
    {
      "cell_type": "code",
      "metadata": {
        "id": "gpLlvmD-gAji",
        "colab_type": "code",
        "colab": {}
      },
      "source": [
        "# Create the discriminator\n",
        "w_critic = keras.Sequential([\n",
        "  keras.Input(shape=DIMS),\n",
        "  layers.Conv2D(32, (4, 4), strides=(2, 2), kernel_constraint=Spectral_Norm(),\n",
        "                padding='same'),\n",
        "  layers.LeakyReLU(alpha=0.2),\n",
        "  layers.Conv2D(64, (4, 4), strides=(2, 2), kernel_constraint=Spectral_Norm(),\n",
        "                padding='same'),\n",
        "  layers.LeakyReLU(alpha=0.2),\n",
        "  layers.Conv2D(128, (3, 3), strides=(1, 1), kernel_constraint=Spectral_Norm(),\n",
        "                padding='same'),\n",
        "  layers.LeakyReLU(alpha=0.2),\n",
        "  layers.GlobalMaxPooling2D(),\n",
        "  layers.Dense(units=1, kernel_constraint=Spectral_Norm())\n",
        "], name='discriminator')\n",
        "\n",
        "# Create the generator\n",
        "generator = keras.Sequential([\n",
        "  keras.Input(shape=(latent_dim,)),\n",
        "  # We want to generate 64 coefficients to reshape into a 64 map\n",
        "  layers.Dense(7 * 7 * latent_dim),\n",
        "  layers.ReLU(),\n",
        "  layers.Reshape((7, 7, latent_dim)),\n",
        "  layers.Conv2DTranspose(latent_dim * 2, (3, 3), strides=(2, 2), padding='same'),\n",
        "  layers.ReLU(),\n",
        "  layers.Conv2DTranspose(latent_dim * 4, (3, 3), strides=(2, 2), padding='same'),\n",
        "  layers.ReLU(),\n",
        "  layers.Conv2DTranspose(latent_dim * 8, (4, 4), strides=(2, 2), padding='same'),\n",
        "  layers.ReLU(),\n",
        "  layers.Conv2D(1, (3, 3), strides=(2, 2), padding='same', activation='sigmoid')\n",
        "], name='generator')"
      ],
      "execution_count": 0,
      "outputs": []
    },
    {
      "cell_type": "code",
      "metadata": {
        "id": "flzcU1JTSxlE",
        "colab_type": "code",
        "outputId": "db0c4ea5-f4e3-40d9-8578-f3ae43664743",
        "colab": {
          "base_uri": "https://localhost:8080/",
          "height": 164
        }
      },
      "source": [
        "# load dataset\n",
        "(train_images, _), (test_images, _) = tf.keras.datasets.fashion_mnist.load_data()\n",
        "\n",
        "# split dataset\n",
        "train_images = np.reshape(train_images,(-1, 28, 28, 1)).astype(\n",
        "    \"float32\"\n",
        ") / 255.0\n",
        "test_images = np.reshape(test_images,(-1, 28, 28, 1)).astype(\"float32\") / 255.0\n",
        "\n",
        "# batch datasets\n",
        "train_dataset = (\n",
        "    tf.data.Dataset.from_tensor_slices(train_images)\n",
        "    .shuffle(TRAIN_BUF)\n",
        "    .batch(BATCH_SIZE)\n",
        ")\n",
        "test_dataset = (\n",
        "    tf.data.Dataset.from_tensor_slices(test_images)\n",
        "    .shuffle(TEST_BUF)\n",
        "    .batch(BATCH_SIZE)\n",
        ")"
      ],
      "execution_count": 6,
      "outputs": [
        {
          "output_type": "stream",
          "text": [
            "Downloading data from https://storage.googleapis.com/tensorflow/tf-keras-datasets/train-labels-idx1-ubyte.gz\n",
            "32768/29515 [=================================] - 0s 0us/step\n",
            "Downloading data from https://storage.googleapis.com/tensorflow/tf-keras-datasets/train-images-idx3-ubyte.gz\n",
            "26427392/26421880 [==============================] - 0s 0us/step\n",
            "Downloading data from https://storage.googleapis.com/tensorflow/tf-keras-datasets/t10k-labels-idx1-ubyte.gz\n",
            "8192/5148 [===============================================] - 0s 0us/step\n",
            "Downloading data from https://storage.googleapis.com/tensorflow/tf-keras-datasets/t10k-images-idx3-ubyte.gz\n",
            "4423680/4422102 [==============================] - 0s 0us/step\n"
          ],
          "name": "stdout"
        }
      ]
    },
    {
      "cell_type": "code",
      "metadata": {
        "id": "1Wd1_XUjTE_-",
        "colab_type": "code",
        "colab": {}
      },
      "source": [
        "gen_optimizer = keras.optimizers.Adam(0.0002, beta_1=0.5)\n",
        "disc_optimizer = keras.optimizers.Adam(0.0001)\n",
        "# model\n",
        "model = WGAN(\n",
        "    generator = generator,\n",
        "    discriminator = w_critic,\n",
        "    latent_dim = latent_dim,\n",
        ")\n",
        "\n",
        "model.compile(\n",
        "    d_optimizer=disc_optimizer,\n",
        "    g_optimizer=gen_optimizer,\n",
        ")"
      ],
      "execution_count": 0,
      "outputs": []
    },
    {
      "cell_type": "code",
      "metadata": {
        "id": "vNn9M0nIT4lv",
        "colab_type": "code",
        "outputId": "9fd308ec-65ac-48eb-d323-fcb9bdbed6df",
        "colab": {
          "base_uri": "https://localhost:8080/",
          "height": 384
        }
      },
      "source": [
        "hist = model.fit(train_dataset, epochs=10)"
      ],
      "execution_count": 8,
      "outputs": [
        {
          "output_type": "stream",
          "text": [
            "Epoch 1/10\n",
            "938/938 [==============================] - 280s 298ms/step - d_loss: -0.6632 - g_loss: 0.1896\n",
            "Epoch 2/10\n",
            "938/938 [==============================] - 279s 298ms/step - d_loss: -0.6191 - g_loss: 0.3792\n",
            "Epoch 3/10\n",
            "938/938 [==============================] - 280s 298ms/step - d_loss: -0.6160 - g_loss: 2.4500\n",
            "Epoch 4/10\n",
            "938/938 [==============================] - 280s 298ms/step - d_loss: -0.4174 - g_loss: 1.5405\n",
            "Epoch 5/10\n",
            "938/938 [==============================] - 280s 298ms/step - d_loss: -0.3492 - g_loss: -1.9012\n",
            "Epoch 6/10\n",
            "938/938 [==============================] - 279s 298ms/step - d_loss: -0.3150 - g_loss: -2.7732\n",
            "Epoch 7/10\n",
            "938/938 [==============================] - 279s 298ms/step - d_loss: -0.3190 - g_loss: 1.3879\n",
            "Epoch 8/10\n",
            "938/938 [==============================] - 279s 298ms/step - d_loss: -0.3602 - g_loss: 0.6532\n",
            "Epoch 9/10\n",
            "938/938 [==============================] - 280s 298ms/step - d_loss: -0.2892 - g_loss: -2.5552\n",
            "Epoch 10/10\n",
            "938/938 [==============================] - 279s 298ms/step - d_loss: -0.3320 - g_loss: -0.8593\n"
          ],
          "name": "stdout"
        }
      ]
    },
    {
      "cell_type": "code",
      "metadata": {
        "id": "vu2YYKaHUGE2",
        "colab_type": "code",
        "outputId": "09b9bdf0-e896-4cdf-a27b-5971ad0b107d",
        "colab": {
          "base_uri": "https://localhost:8080/",
          "height": 126
        }
      },
      "source": [
        "import matplotlib.pyplot as plt\n",
        "%matplotlib inline\n",
        "\n",
        "# exampled data for plotting results\n",
        "def plot_reconstruction(model, nex=8, zm=2):\n",
        "    samples = model.generate(tf.random.normal(shape=(BATCH_SIZE, latent_dim)))\n",
        "    fig, axs = plt.subplots(ncols=nex, nrows=1, figsize=(zm * nex, zm))\n",
        "    for axi in range(nex):\n",
        "        axs[axi].matshow(\n",
        "                    samples.numpy()[axi].squeeze(), cmap=plt.cm.Greys, vmin=0, vmax=1\n",
        "                )\n",
        "        axs[axi].axis('off')\n",
        "    plt.show()\n",
        "\n",
        "plot_reconstruction(model)"
      ],
      "execution_count": 12,
      "outputs": [
        {
          "output_type": "display_data",
          "data": {
            "image/png": "[encoded data removed]",
            "text/plain": [
              "<Figure size 1152x144 with 8 Axes>"
            ]
          },
          "metadata": {
            "tags": [],
            "needs_background": "light"
          }
        }
      ]
    },
    {
      "cell_type": "code",
      "metadata": {
        "id": "ca-Z3-PNgTG9",
        "colab_type": "code",
        "outputId": "3a2d5998-a8cc-4164-ff8f-5a7fcfdfd1be",
        "colab": {
          "base_uri": "https://localhost:8080/",
          "height": 279
        }
      },
      "source": [
        "# Get training and test loss histories\n",
        "d_loss = hist.history['d_loss']\n",
        "g_loss = hist.history['g_loss']\n",
        "# Create count of the number of epochs\n",
        "epoch_count = range(1, len(d_loss) + 1)\n",
        "\n",
        "# Visualize loss history\n",
        "plt.plot(epoch_count, d_loss, 'r--')\n",
        "plt.plot(epoch_count, g_loss, 'b-')\n",
        "\n",
        "plt.legend(['Critic Loss', 'Generator Loss'])\n",
        "plt.xlabel('Epoch')\n",
        "plt.ylabel('Loss')\n",
        "plt.show();"
      ],
      "execution_count": 13,
      "outputs": [
        {
          "output_type": "display_data",
          "data": {
            "image/png": "[encoded data removed]",
            "text/plain": [
              "<Figure size 432x288 with 1 Axes>"
            ]
          },
          "metadata": {
            "tags": [],
            "needs_background": "light"
          }
        }
      ]
    },
    {
      "cell_type": "code",
      "metadata": {
        "id": "KQdP0LrGaVKw",
        "colab_type": "code",
        "colab": {}
      },
      "source": [
        ""
      ],
      "execution_count": 0,
      "outputs": []
    }
  ]
}